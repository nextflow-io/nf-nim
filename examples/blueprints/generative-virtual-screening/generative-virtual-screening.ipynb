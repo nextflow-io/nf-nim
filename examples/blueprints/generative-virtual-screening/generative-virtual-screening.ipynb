{
 "cells": [
  {
   "cell_type": "markdown",
   "metadata": {},
   "source": [
    "## NIM Agent Blueprint for Generative Virtual Screening in Drug Discovery\n",
    "Drug discovery is a complex and resource intensive process that traditionally involves screening large libraries of molecules to identify potential candidates for therapeutic development. Virtual screening workflows powered by generative AI offer a transformative approach to this process, enabling researchers to efficiently explore vast chemical and biological spaces, predict molecular interactions, and design optimized drug candidates.\n",
    "\n",
    "This example notebook demonstrates how to connect BioNeMo NIMs (NVIDIA Inference Microservices) to perform a few key steps of a virtual screening workflow. Importantly, each step in the workflow is powered by NVIDIA GPUs and highly performant AI models in each category: MSA-Search (MMSeqs2) for sequence alignment generation, OpenFold2 for folding, GenMol for molecular generation, and DiffDock for protein-ligand docking.\n",
    "\n",
    "Below, we illustrate this workflow using an example protein and molecule of interest, the SARS-CoV-2 main protease and the antiviral compound Nirmatrelvir. However, users are free to define any protein and molecule of their choosing as long as they meet the input requirements of the NIMs.\n",
    "\n",
    "All of these capabilities are enabled by NVIDIA NIM and NVIDIA NIM Blueprints. For more details, please visit [NVIDIA NIM Blueprints](https://build.nvidia.com/nim/blueprints).\n",
    "\n",
    "### BioNeMo NIMs Configuration\n",
    "Before proceeding, ensure you have completed the [Helm Deployment Prerequisites](../generative-virtual-screening-chart/README.md) including setting up a secret named `ngc-registry-secret` with your personal run key for your NGC Organization. This step is required before installing the Helm chart."
   ]
  },
  {
   "cell_type": "markdown",
   "metadata": {},
   "source": [
    "### Setting Up Your Environment\n",
    "First, we will set up our environment to make sure we can invoke the deployed NIMs.\n",
    "We use the Python `requests` library make APIs call to the NIMs. The generated molecules and folded proteins are visualized using `RDKit` and `py3Dmol`. `RDKit` is a robust toolkit for cheminformatics, enabling the visualization and manipulation of molecular structures in 2D. `py3Dmol`, provides interactive 3D visualization of molecules, making it ideal for exploring protein-ligand interactions in this notebook."
   ]
  },
  {
   "cell_type": "code",
   "execution_count": null,
   "metadata": {},
   "outputs": [],
   "source": [
    "! pip install py3Dmol\n",
    "! pip install rdkit\n",
    "\n",
    "import os\n",
    "\n",
    "import py3Dmol\n",
    "import requests\n",
    "from IPython.display import display\n",
    "from rdkit import Chem\n",
    "from rdkit.Chem import Draw"
   ]
  },
  {
   "cell_type": "markdown",
   "metadata": {},
   "source": [
    "Next, we define variables for the IP addresses and ports of each locally-deployed NIM To interact with. Set the following environment variables corresponding to the ports you forwarded during the [Helm Deployment Prerequisites](../generative-virtual-screening-chart/README.md#configure-cluster--helm-deployment)"
   ]
  },
  {
   "cell_type": "code",
   "execution_count": null,
   "metadata": {},
   "outputs": [],
   "source": [
    "\n",
    "MSA_HOST = 'http://localhost:8081'\n",
    "OPENFOLD2_HOST = 'http://localhost:8082'\n",
    "GENMOL_HOST = 'http://localhost:8083'\n",
    "DIFFDOCK_HOST = 'http://localhost:8084'"
   ]
  },
  {
   "cell_type": "markdown",
   "metadata": {},
   "source": [
    "Before sending requests it is best practice to check the NIMs are in a live and ready state. This can be done using the `/v1/health/ready` endpoint of each NIM:"
   ]
  },
  {
   "cell_type": "code",
   "execution_count": null,
   "metadata": {},
   "outputs": [],
   "source": [
    "for nim_url in [MSA_HOST, OPENFOLD2_HOST, GENMOL_HOST, DIFFDOCK_HOST]:\n",
    "    try:\n",
    "        response = requests.get(os.path.join(nim_url, \"v1/health/ready\"))\n",
    "        if response.status_code == 200:\n",
    "            print(\"Response:\", response.text)\n",
    "        else:\n",
    "            print(f\"Failed to invoke {nim_url} with status code: {response.status_code}\")\n",
    "    except requests.exceptions.RequestException as e:\n",
    "        print(f\"An error occurred: {e}\")"
   ]
  },
  {
   "cell_type": "markdown",
   "metadata": {},
   "source": [
    "### Protein Folding with MMSeqs2 and OpenFold2\n",
    "Once a target protein of interest has been identified, the first step of this virtual screening demonstration is to generate a plausible structure of that protein sequence. We do so by using OpenFold2, a generative, transformer-based model that translates protein sequences into protein structures.\n",
    "\n",
    "To help predicting spatial constraints between amino acid residues and improving the accuracy of predicted protein structures, OpenFold2 leverages the MSA-search NIM (powered by MMSeqs2 - a GPU accelerated toolkit for protein database search and Multiple Sequence Alignment) as a key input to provide co-evolutionary information and infer structural features.\n",
    "\n",
    "To demonstrate this part of our workflow, we begin with an example protein sequence. Here, we choose the SARS-CoV-2 main protease as our starting sequence. We query the MSA-search endpoint with this sequence and the model returns the alignment data according to each of the sequence search supported databases.\n",
    "\n",
    "Please note that this step may take a few minutes to be finished (depending on the GPU type), which is much slower than the other two inference steps that usually requires less than a minute"
   ]
  },
  {
   "cell_type": "code",
   "execution_count": null,
   "metadata": {},
   "outputs": [],
   "source": [
    "# SARS CoV-2 main protease sequence\n",
    "protein = \"SGFRKMAFPSGKVEGCMVQVTCGTTTLNGLWLDDVVYCPRHVICTSEDMLNPNYEDLLIRKSNHNFLVQAGNVQLRVIGHSMQNCVLKLKVDTANPKTPKYKFVRIQPGQTFSVLACYNGSPSGVYQCAMRPNFTIKGSFLNGSCGSVGFNIDYDCVSFCYMHHMELPTGVHAGTDLEGNFYGPFVDRQTAQAAGTDTTITVNVLAWLYAAVINGDRWFLNRFTTTLNDFNLVAMKYNYEPLTQDHVDILGPLSAQTGIAVLDMCASLKELLQNGMNGRTILGSALLEDEFTPFDVVRQCSGVTFQ\""
   ]
  },
  {
   "cell_type": "code",
   "execution_count": null,
   "metadata": {},
   "outputs": [],
   "source": [
    "# Query MSA-search with sequence above\n",
    "msa_response = requests.post(\n",
    "    f'{MSA_HOST}/biology/colabfold/msa-search/predict',\n",
    "    json={\n",
    "        'sequence': protein,\n",
    "        'e_value': 0.0001,\n",
    "        'iterations': 1,    \n",
    "        'search_type': 'alphafold2',\n",
    "        'output_alignment_formats' : ['fasta', 'a3m'],\n",
    "        'databases': ['Uniref30_2302', 'colabfold_envdb_202108', 'PDB70_220313']\n",
    "    }).json()"
   ]
  },
  {
   "cell_type": "markdown",
   "metadata": {},
   "source": [
    "We pass the original sequence and the alignments created by each of the selected databases of the sequence to OpenFold2 to predict protein structure."
   ]
  },
  {
   "cell_type": "code",
   "execution_count": null,
   "metadata": {},
   "outputs": [],
   "source": [
    "print(msa_response)"
   ]
  },
  {
   "cell_type": "code",
   "execution_count": null,
   "metadata": {},
   "outputs": [],
   "source": [
    "# Query OpenFold2 \n",
    "of2_response = requests.post(\n",
    "    f'{OPENFOLD2_HOST}/biology/openfold/openfold2/predict-structure-from-msa-and-template',\n",
    "    json={\n",
    "        'sequence': protein,\n",
    "        'use_templates': False,\n",
    "        'relaxed_prediction': False,\n",
    "        'alignments': msa_response['alignments'],\n",
    "    }).json()\n",
    "# Receive protein structure for SARS CoV-2 protease\n",
    "folded_protein = of2_response[\"structures_in_ranked_order\"].pop(0)[\"structure\"]"
   ]
  },
  {
   "cell_type": "markdown",
   "metadata": {},
   "source": [
    "Inspect the folded protein pdb content"
   ]
  },
  {
   "cell_type": "code",
   "execution_count": null,
   "metadata": {},
   "outputs": [],
   "source": [
    "print(folded_protein[:648])"
   ]
  },
  {
   "cell_type": "markdown",
   "metadata": {},
   "source": [
    "Let us use py3Dmol to visualize the folded protein generated by OpenFold2"
   ]
  },
  {
   "cell_type": "code",
   "execution_count": null,
   "metadata": {},
   "outputs": [],
   "source": [
    "view = py3Dmol.view(width=800, height=600)\n",
    "view.addModel(folded_protein, \"pdb\")\n",
    "view.setStyle({'model': -1}, {\"cartoon\": {'color': 'spectrum'}})\n",
    "view.zoomTo()\n",
    "view.show()"
   ]
  },
  {
   "cell_type": "markdown",
   "metadata": {},
   "source": [
    "### Molecular Generation with GenMol\n",
    "The next step in our workflow is generating molecules with optimized chemical properties starting from a seed molecule of interest. Here, molecular generation is powered by GenMol, a masked diffusion model trained on Sequential Attachment based Fragment Embedding (SAFE) representations aimed at generating and optimizing molecules according to user-defined objectives.\n",
    "\n",
    "Here, we begin with a fragmented formatted Nirmatrelvir, an active component of the Covid treatment Paxlovid, aimed at targeting the SARS-CoV-2 main protease. By using this molecule as the input to GenMol, the model will return 5 generated molecules with the highest chemical similarity to the seed molecule, Nirmatrelvir. The user is able to specify the number of generated molecules to return when querying the GenMol NIM.\n",
    "\n",
    "Additionally, the user is able to specify chemical properties to optimize for. In this example, we have chosen to optimize the Quantitative Estimate of Drug-Likeness (QED) score, to produce molecules with favorable pharmacokinetic properties.\n",
    "\n",
    "To Further experiment with GenMol please refer to our [GiHub Examples](https://github.com/NVIDIA/bionemo-examples/tree/main/examples/nims/genmol#Setup)\n"
   ]
  },
  {
   "cell_type": "code",
   "execution_count": null,
   "metadata": {},
   "outputs": [],
   "source": [
    "# Nirmatrelvir\n",
    "molecule = \"C12OC3C(O)C1O.C3O.[*{25-25}]\""
   ]
  },
  {
   "cell_type": "code",
   "execution_count": null,
   "metadata": {},
   "outputs": [],
   "source": [
    "# Query GenMol\n",
    "genmol_response = requests.post(\n",
    "    f'{GENMOL_HOST}/generate',\n",
    "    json={\n",
    "        'smiles': molecule,\n",
    "        'num_molecules': 5,\n",
    "        \"temperature\":1,\n",
    "        \"noise\":0.2,\n",
    "        \"step_size\":4,\n",
    "        \"scoring\":\"QED\"\n",
    "    }).json()\n",
    "# Prepare GenMol output for DiffDock\n",
    "generated_ligands = '\\n'.join([ v['smiles']for v in genmol_response['molecules']])"
   ]
  },
  {
   "cell_type": "code",
   "execution_count": null,
   "metadata": {},
   "outputs": [],
   "source": [
    "# Print the smiles and score of each generated molecule\n",
    "print(\"\\n\".join([f\"SMILES: {mol['smiles']}, Score: {mol['score']}\" for mol in genmol_response['molecules']]))"
   ]
  },
  {
   "cell_type": "markdown",
   "metadata": {},
   "source": [
    "### Protein-Ligand Docking with DiffDock\n",
    "\n",
    "After obtaining the molecules with optimized QED scores, we can predict their binding poses to the receptor target. Here, we apply DiffDock, a state-of-the-art generative model that predicts the 3D structure of a protein-ligand complex, to find out the best (most probable) binding poses. A highlighted feature from DiffDock is that a presumed binding pocket, which usually can be characterized only from experimental 3D structures, is not needed (a.k.a., blind-docking). This feature is very useful for AI folded protein structures, as it is able to locate all regions on the protein surface to be bound by drug molecules, providing insights for further downstream investigations.\n",
    "\n",
    "The optimized DiffDock also provides the batch-docking function, by which we can concatenate multiple molecules into one request of docking, each of them will be also sampled for multiple poses (i.e., num_poses=10 in this example). In the output, the predicted docking poses for each molecule is sorted by a confidence score that inferenced from a confidence model."
   ]
  },
  {
   "cell_type": "code",
   "execution_count": null,
   "metadata": {},
   "outputs": [],
   "source": [
    "diffdock_response = requests.post(\n",
    "    f'{DIFFDOCK_HOST}/molecular-docking/diffdock/generate',\n",
    "    json={\n",
    "        'protein': folded_protein,\n",
    "        'ligand': generated_ligands,\n",
    "        'ligand_file_type': 'txt',\n",
    "        'num_poses': 10,\n",
    "        'time_divisions': 20,\n",
    "        'num_steps': 18,\n",
    "    }).json()"
   ]
  },
  {
   "cell_type": "markdown",
   "metadata": {},
   "source": [
    "In this step, we construct a molecule from each SMILES string that was generated by GenMol:"
   ]
  },
  {
   "cell_type": "code",
   "execution_count": null,
   "metadata": {},
   "outputs": [],
   "source": [
    "\n",
    "ligands = diffdock_response[\"ligand\"].split('\\n')\n",
    "\n",
    "mols = [\n",
    "    Chem.MolFromSmiles(smiles)\n",
    "    for smiles, status in zip(ligands, diffdock_response[\"status\"])\n",
    "    if status == \"success\" and Chem.MolFromSmiles(smiles)]\n",
    "\n",
    "legends = [smiles \n",
    "           for smiles, status in zip(ligands, diffdock_response[\"status\"]) \n",
    "           if status == \"success\"]\n",
    "\n",
    "img = Draw.MolsToGridImage(mols, legends=legends, subImgSize=(300, 300))\n",
    "display(img)\n"
   ]
  },
  {
   "cell_type": "markdown",
   "metadata": {},
   "source": [
    "The following code block visualizes the pose with the highest confidence for each generated molecule"
   ]
  },
  {
   "cell_type": "code",
   "execution_count": null,
   "metadata": {},
   "outputs": [],
   "source": [
    "\n",
    "def visualize_3d_ligand(mol_block):\n",
    "    mol_3d = Chem.MolFromMolBlock(mol_block, sanitize=False)\n",
    "    if mol_3d is None:\n",
    "        print(\"Could not parse MolBlock.\")\n",
    "        return\n",
    "    pdb_block = Chem.MolToPDBBlock(mol_3d)\n",
    "\n",
    "    viewer = py3Dmol.view(width=800, height=400)\n",
    "    viewer.addModel(pdb_block, \"pdb\")\n",
    "    viewer.setStyle({'stick': {}})\n",
    "    viewer.zoomTo()\n",
    "    return viewer.show()\n",
    "\n",
    "for i in range(len(diffdock_response['ligand_positions'])):\n",
    "    print(f\"Visualizing top ligand for {ligands[i]}\")\n",
    "    visualize_3d_ligand(diffdock_response['ligand_positions'][i][0])"
   ]
  },
  {
   "cell_type": "markdown",
   "metadata": {},
   "source": [
    "## End-to-End Virtual Screening with NIMs\n",
    "\n",
    "In this Blueprint, we illustrate the ability of BioNeMo NIMs to work in concert to generate meaningful predictions in a small virtual screening workflow. We hope this underscores to the user how easy the tools are to query and assimilate, and how flexible a workflow of this sort can be.\n",
    "\n",
    "Blueprints are provided open-source and designed to be extended to fit your advanced use case. For example, you might consider:\n",
    "- Utilizing a custom MSA database with the MSA Search NIM to tailor the results to your use case.\n",
    "- Using your own custom structural template database with the OpenFold2 NIM to inform structural prediction.\n",
    "- Adding advanced oracles for molecule generation with GenMol to generate candidates with specific properties.\n",
    "\n",
    "## Build with this Blueprint\n",
    "\n",
    "Now that you have successfully run the Generative Virtual Screening Blueprint, consider the following steps:\n",
    "- Learn more about [NVIDIA AI Enterprise](https://docs.nvidia.com/ai-enterprise/index.html) and how to get advanced support with NIMs.\n",
    "- Try the Generative Virtual Screening Blueprint demonstration on [build.nvidia.com](https://build.nvidia.com/nvidia/generative-virtual-screening-for-drug-discovery) to see further examples of the API usage and visualization.\n"
   ]
  }
 ],
 "metadata": {
  "kernelspec": {
   "display_name": "usr",
   "language": "python",
   "name": "python3"
  },
  "language_info": {
   "codemirror_mode": {
    "name": "ipython",
    "version": 3
   },
   "file_extension": ".py",
   "mimetype": "text/x-python",
   "name": "python",
   "nbconvert_exporter": "python",
   "pygments_lexer": "ipython3",
   "version": "3.10.12"
  }
 },
 "nbformat": 4,
 "nbformat_minor": 4
}
